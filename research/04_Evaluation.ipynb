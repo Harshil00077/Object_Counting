{
 "cells": [
  {
   "cell_type": "code",
   "execution_count": 1,
   "metadata": {},
   "outputs": [],
   "source": [
    "import os\n",
    "os.chdir(\"../\")"
   ]
  },
  {
   "cell_type": "code",
   "execution_count": null,
   "metadata": {},
   "outputs": [],
   "source": []
  },
  {
   "cell_type": "code",
   "execution_count": 2,
   "metadata": {},
   "outputs": [
    {
     "data": {
      "text/plain": [
       "'c:\\\\Users\\\\opdar\\\\BVM\\\\Mtech\\\\iiitb\\\\2nd Sem\\\\SPE\\\\End_project\\\\Object_Counting_1'"
      ]
     },
     "execution_count": 2,
     "metadata": {},
     "output_type": "execute_result"
    }
   ],
   "source": [
    "%pwd"
   ]
  },
  {
   "cell_type": "code",
   "execution_count": 3,
   "metadata": {},
   "outputs": [],
   "source": [
    "from dataclasses import dataclass\n",
    "from pathlib import Path\n",
    "\n",
    "\n",
    "@dataclass(frozen=True)\n",
    "class EvaluationConfig:\n",
    "    path_of_model: Path\n",
    "    training_data: Path\n",
    "    all_params: dict\n",
    "    params_image_size: list\n",
    "    params_batch_size: int\n",
    "    export_model_path: Path"
   ]
  },
  {
   "cell_type": "code",
   "execution_count": 4,
   "metadata": {},
   "outputs": [],
   "source": [
    "from src.Object_Counting.constants import *\n",
    "from src.Object_Counting.utils.common import read_yaml, create_directories, save_json"
   ]
  },
  {
   "cell_type": "code",
   "execution_count": 5,
   "metadata": {},
   "outputs": [],
   "source": [
    "class ConfigurationManager:\n",
    "    def __init__(\n",
    "        self, \n",
    "        config_filepath = CONFIG_FILE_PATH,\n",
    "        params_filepath = PARAMS_FILE_PATH):\n",
    "        self.config = read_yaml(config_filepath)\n",
    "        self.params = read_yaml(params_filepath)\n",
    "        create_directories([self.config.artifacts_root])\n",
    "\n",
    "    \n",
    "    def get_validation_config(self) -> EvaluationConfig:\n",
    "        eval_config = EvaluationConfig(\n",
    "            path_of_model=\"artifacts/training/model.pt\",\n",
    "            training_data=\"dataset.yaml\",\n",
    "            export_model_path=\"torchserve/models/detection_1.onnx\",\n",
    "            all_params=self.params,\n",
    "            params_image_size=self.params.IMAGE_SIZE,\n",
    "            params_batch_size=self.params.BATCH_SIZE\n",
    "        )\n",
    "        return eval_config"
   ]
  },
  {
   "cell_type": "code",
   "execution_count": 6,
   "metadata": {},
   "outputs": [],
   "source": [
    "from ultralytics import YOLO"
   ]
  },
  {
   "cell_type": "code",
   "execution_count": 13,
   "metadata": {},
   "outputs": [],
   "source": [
    "import shutil\n",
    "\n",
    "class Evaluation:\n",
    "    def __init__(self, config: EvaluationConfig):\n",
    "        self.config = config\n",
    "\n",
    "    \n",
    "    @staticmethod\n",
    "    def load_model(path: Path) -> YOLO:\n",
    "        return YOLO(path)\n",
    "    \n",
    "\n",
    "    def evaluation(self):\n",
    "        self.model = self.load_model(self.config.path_of_model)\n",
    "        self.results =  self.model.val(data=self.config.training_data, imgsz=self.config.params_image_size,batch=self.config.params_batch_size)\n",
    "\n",
    "    def export_model(self):\n",
    "        self.model.export(format=\"onnx\")\n",
    "        shutil.copy(\"artifacts/training/model.onnx\", self.config.export_model_path)\n",
    "        # shutil.copy(\"artifacts/training/detection.onnx\", self.config.export_model_path)\n",
    "\n",
    "    def save_score(self):\n",
    "        save_json(path=Path(\"scores.json\"), data=self.results.results_dict)\n"
   ]
  },
  {
   "cell_type": "code",
   "execution_count": 14,
   "metadata": {},
   "outputs": [
    {
     "name": "stdout",
     "output_type": "stream",
     "text": [
      "[2024-04-04 01:56:55,548: INFO: common: yaml file: C:\\Users\\opdar\\BVM\\Mtech\\iiitb\\2nd Sem\\SPE\\End_project\\Object_Counting_1\\config\\config.yaml loaded successfully]\n",
      "[2024-04-04 01:56:55,550: INFO: common: yaml file: params.yaml loaded successfully]\n",
      "[2024-04-04 01:56:55,551: INFO: common: created directory at: artifacts]\n",
      "Ultralytics YOLOv8.1.9 🚀 Python-3.10.14 torch-2.2.2+cpu CPU (AMD Ryzen 5 6600H with Radeon Graphics)\n",
      "Model summary (fused): 168 layers, 3006623 parameters, 0 gradients, 8.1 GFLOPs\n"
     ]
    },
    {
     "name": "stderr",
     "output_type": "stream",
     "text": [
      "\u001b[34m\u001b[1mval: \u001b[0mScanning C:\\Users\\opdar\\BVM\\Mtech\\iiitb\\2nd Sem\\SPE\\End_project\\Object_Counting_1\\artifacts\\data_ingestion\\dataset\\valid\\labels.cache... 90 images, 0 backgrounds, 0 corrupt: 100%|██████████| 90/90 [00:00<?, ?it/s]\n",
      "                 Class     Images  Instances      Box(P          R      mAP50  mAP50-95): 100%|██████████| 6/6 [00:04<00:00,  1.45it/s]\n"
     ]
    },
    {
     "name": "stdout",
     "output_type": "stream",
     "text": [
      "                   all         90       1502      0.535      0.365      0.341      0.202\n",
      "               bicycle         90         30      0.142     0.0667     0.0709     0.0308\n",
      "                   bus         90          4          1          0          0          0\n",
      "                   car         90       1030      0.715      0.898      0.897      0.571\n",
      "             motorbike         90        400      0.492       0.33       0.31      0.136\n",
      "                person         90         38      0.325      0.532      0.426      0.272\n",
      "Speed: 0.6ms preprocess, 26.8ms inference, 0.0ms loss, 2.8ms postprocess per image\n",
      "Results saved to \u001b[1mruns\\detect\\val18\u001b[0m\n",
      "[2024-04-04 01:57:04,763: INFO: common: json file saved at: scores.json]\n",
      "Ultralytics YOLOv8.1.9 🚀 Python-3.10.14 torch-2.2.2+cpu CPU (AMD Ryzen 5 6600H with Radeon Graphics)\n",
      "\n",
      "\u001b[34m\u001b[1mPyTorch:\u001b[0m starting from 'artifacts\\training\\model.pt' with input shape (1, 3, 320, 320) BCHW and output shape(s) (1, 9, 2100) (5.9 MB)\n",
      "\n",
      "\u001b[34m\u001b[1mONNX:\u001b[0m starting export with onnx 1.15.0 opset 17...\n",
      "\u001b[34m\u001b[1mONNX:\u001b[0m export success ✅ 0.9s, saved as 'artifacts\\training\\model.onnx' (11.6 MB)\n",
      "\n",
      "Export complete (2.7s)\n",
      "Results saved to \u001b[1mC:\\Users\\opdar\\BVM\\Mtech\\iiitb\\2nd Sem\\SPE\\End_project\\Object_Counting_1\\artifacts\\training\u001b[0m\n",
      "Predict:         yolo predict task=detect model=artifacts\\training\\model.onnx imgsz=320  \n",
      "Validate:        yolo val task=detect model=artifacts\\training\\model.onnx imgsz=320 data=dataset.yaml  \n",
      "Visualize:       https://netron.app\n"
     ]
    }
   ],
   "source": [
    "try:\n",
    "    config = ConfigurationManager()\n",
    "    val_config = config.get_validation_config()\n",
    "    evaluation = Evaluation(val_config)\n",
    "    evaluation.evaluation()\n",
    "    evaluation.save_score()\n",
    "    evaluation.export_model()\n",
    "\n",
    "except Exception as e:\n",
    "   raise e"
   ]
  },
  {
   "cell_type": "code",
   "execution_count": null,
   "metadata": {},
   "outputs": [],
   "source": []
  },
  {
   "cell_type": "code",
   "execution_count": null,
   "metadata": {},
   "outputs": [],
   "source": []
  }
 ],
 "metadata": {
  "kernelspec": {
   "display_name": "trafficdetect1",
   "language": "python",
   "name": "python3"
  },
  "language_info": {
   "codemirror_mode": {
    "name": "ipython",
    "version": 3
   },
   "file_extension": ".py",
   "mimetype": "text/x-python",
   "name": "python",
   "nbconvert_exporter": "python",
   "pygments_lexer": "ipython3",
   "version": "3.10.14"
  }
 },
 "nbformat": 4,
 "nbformat_minor": 2
}
