{
 "cells": [
  {
   "cell_type": "code",
   "execution_count": 50,
   "metadata": {},
   "outputs": [],
   "source": [
    "import os\n",
    "os.chdir(\"C:/Users/opdar/BVM/Mtech admission/iiit banglor/2nd Sem/SPE/End_sem_project/Object_Counting_1\")"
   ]
  },
  {
   "cell_type": "code",
   "execution_count": 51,
   "metadata": {},
   "outputs": [
    {
     "data": {
      "text/plain": [
       "'C:\\\\Users\\\\opdar\\\\BVM\\\\Mtech admission\\\\iiit banglor\\\\2nd Sem\\\\SPE\\\\End_sem_project\\\\Object_Counting_1'"
      ]
     },
     "execution_count": 51,
     "metadata": {},
     "output_type": "execute_result"
    }
   ],
   "source": [
    "%pwd"
   ]
  },
  {
   "cell_type": "code",
   "execution_count": 14,
   "metadata": {},
   "outputs": [],
   "source": [
    "from dataclasses import dataclass\n",
    "from pathlib import Path\n",
    "\n",
    "\n",
    "@dataclass(frozen=True)\n",
    "class DataIngestionConfig:\n",
    "    root_dir: Path\n",
    "    source_URL : str\n",
    "    local_data_file: Path\n",
    "    unzip_dir : Path"
   ]
  },
  {
   "cell_type": "code",
   "execution_count": 44,
   "metadata": {},
   "outputs": [],
   "source": [
    "from Object_Counting.constants import *\n",
    "from Object_Counting.utils.common import read_yaml, create_directories\n",
    "from pathlib import Path\n",
    "\n",
    "CONFIG_FILE_PATH = Path(\"C:/Users/opdar/BVM/Mtech admission/iiit banglor/2nd Sem\\SPE/End_sem_project/Object_Counting_1/config/config.yaml\")\n",
    "PARAMS_FILE_PATH = Path(\"C:/Users/opdar/BVM/Mtech admission/iiit banglor/2nd Sem\\SPE/End_sem_project/Object_Counting_1/params.yaml\")"
   ]
  },
  {
   "cell_type": "code",
   "execution_count": 45,
   "metadata": {},
   "outputs": [
    {
     "data": {
      "text/plain": [
       "'C:\\\\Users\\\\opdar\\\\BVM\\\\Mtech admission\\\\iiit banglor\\\\2nd Sem\\\\SPE\\\\End_sem_project\\\\Object_Counting_1\\\\src'"
      ]
     },
     "execution_count": 45,
     "metadata": {},
     "output_type": "execute_result"
    }
   ],
   "source": [
    "%pwd"
   ]
  },
  {
   "cell_type": "code",
   "execution_count": 46,
   "metadata": {},
   "outputs": [],
   "source": [
    "class ConfigurationManager:\n",
    "    def __init__(\n",
    "            self,\n",
    "            config_filepath = CONFIG_FILE_PATH,\n",
    "            params_filepath = PARAMS_FILE_PATH):\n",
    "\n",
    "            self.config = read_yaml(config_filepath)\n",
    "            self.params = read_yaml(params_filepath)\n",
    "\n",
    "            create_directories([self.config.artifacts_root])\n",
    "    def get_data_ingestion_config(self) -> DataIngestionConfig:\n",
    "          config = self.config.data_ingestion\n",
    "\n",
    "          create_directories([config.root_dir])\n",
    "\n",
    "          data_ingestion_config = DataIngestionConfig(\n",
    "                root_dir=config.root_dir,\n",
    "                source_URL=config.source_URL,\n",
    "                local_data_file=config.local_data_file,\n",
    "                unzip_dir=config.unzip_dir\n",
    "          )\n",
    "          return data_ingestion_config"
   ]
  },
  {
   "cell_type": "code",
   "execution_count": 47,
   "metadata": {},
   "outputs": [],
   "source": [
    "import os \n",
    "import urllib.request as request\n",
    "import zipfile\n",
    "from Object_Counting import logger\n",
    "from Object_Counting.utils.common import get_size"
   ]
  },
  {
   "cell_type": "code",
   "execution_count": 48,
   "metadata": {},
   "outputs": [],
   "source": [
    "class DataIngestion:\n",
    "    def __init__(self, config: DataIngestionConfig):\n",
    "        self.config = config\n",
    "    \n",
    "    def download_file(self):\n",
    "        if not os.path.exists(self.config.local_data_file):\n",
    "            filename, headers = request.urlretrieve(\n",
    "                url = self.config.source_URL,\n",
    "                filename = self.config.local_data_file\n",
    "            )\n",
    "            logger.info(f\"{filename} download! with following info: \\n {headers}\")\n",
    "        else:\n",
    "            logger.info(f\"File already exists of size: {get_size(Path(self.config.local_data_file))}\")\n",
    "    \n",
    "    def extract_zip_file(self):\n",
    "        \"\"\"\n",
    "        zip_file_path: str\n",
    "        Extracts the zip file into the data directory\n",
    "        Function returns None\n",
    "        \"\"\"\n",
    "        unzip_path = self.config.unzip_dir\n",
    "        os.makedirs(unzip_path, exist_ok=True)\n",
    "        with zipfile.ZipFile(self.config.local_data_file, \"r\") as zip_ref:\n",
    "            zip_ref.extractall(unzip_path)"
   ]
  },
  {
   "cell_type": "code",
   "execution_count": 49,
   "metadata": {},
   "outputs": [
    {
     "name": "stdout",
     "output_type": "stream",
     "text": [
      "[2024-04-02 21:34:32,647: INFO: common: yaml file: C:\\Users\\opdar\\BVM\\Mtech admission\\iiit banglor\\2nd Sem\\SPE\\End_sem_project\\Object_Counting_1\\config\\config.yaml loaded successfully]\n",
      "[2024-04-02 21:34:32,650: INFO: common: yaml file: C:\\Users\\opdar\\BVM\\Mtech admission\\iiit banglor\\2nd Sem\\SPE\\End_sem_project\\Object_Counting_1\\params.yaml loaded successfully]\n",
      "[2024-04-02 21:34:32,657: INFO: common: created directory at: artifacts]\n",
      "[2024-04-02 21:34:32,661: INFO: common: created directory at: artifacts/data_ingestion]\n",
      "[2024-04-02 21:34:46,011: INFO: 2306223797: artifacts/data_ingestion/dataset.zip download! with following info: \n",
      " Connection: close\n",
      "Content-Length: 54891690\n",
      "Cache-Control: max-age=300\n",
      "Content-Security-Policy: default-src 'none'; style-src 'unsafe-inline'; sandbox\n",
      "Content-Type: application/zip\n",
      "ETag: \"36f98115295b0ba94d6e877234607de1de47bddd2c8ab0885136eea9c8a4f9a1\"\n",
      "Strict-Transport-Security: max-age=31536000\n",
      "X-Content-Type-Options: nosniff\n",
      "X-Frame-Options: deny\n",
      "X-XSS-Protection: 1; mode=block\n",
      "X-GitHub-Request-Id: 69DA:ED37B:2B0081:38E026:660C2C91\n",
      "Accept-Ranges: bytes\n",
      "Date: Tue, 02 Apr 2024 16:04:36 GMT\n",
      "Via: 1.1 varnish\n",
      "X-Served-By: cache-maa10248-MAA\n",
      "X-Cache: MISS\n",
      "X-Cache-Hits: 0\n",
      "X-Timer: S1712073874.599116,VS0,VE3224\n",
      "Vary: Authorization,Accept-Encoding,Origin\n",
      "Access-Control-Allow-Origin: *\n",
      "Cross-Origin-Resource-Policy: cross-origin\n",
      "X-Fastly-Request-ID: 367817830ac174f22998bc83928fbd8b14a4f4a0\n",
      "Expires: Tue, 02 Apr 2024 16:09:36 GMT\n",
      "Source-Age: 3\n",
      "\n",
      "]\n"
     ]
    }
   ],
   "source": [
    "# try:\n",
    "config = ConfigurationManager()\n",
    "data_ingestion_config = config.get_data_ingestion_config()\n",
    "data_ingestion = DataIngestion(config=data_ingestion_config)\n",
    "data_ingestion.download_file()\n",
    "data_ingestion.extract_zip_file()\n",
    "# except Exception as e:\n",
    "#     raise e"
   ]
  },
  {
   "cell_type": "code",
   "execution_count": null,
   "metadata": {},
   "outputs": [],
   "source": []
  },
  {
   "cell_type": "code",
   "execution_count": null,
   "metadata": {},
   "outputs": [],
   "source": []
  }
 ],
 "metadata": {
  "kernelspec": {
   "display_name": "v_stream_1",
   "language": "python",
   "name": "python3"
  },
  "language_info": {
   "codemirror_mode": {
    "name": "ipython",
    "version": 3
   },
   "file_extension": ".py",
   "mimetype": "text/x-python",
   "name": "python",
   "nbconvert_exporter": "python",
   "pygments_lexer": "ipython3",
   "version": "3.10.14"
  }
 },
 "nbformat": 4,
 "nbformat_minor": 2
}
